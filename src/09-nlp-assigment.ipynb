{
 "cells": [
  {
   "cell_type": "markdown",
   "id": "e73517c0-2692-4321-846c-9d8d61141d9a",
   "metadata": {},
   "source": [
    "# Natural language processing"
   ]
  },
  {
   "cell_type": "markdown",
   "id": "bd08f95f-ff3d-41c2-aff8-a33c99136b40",
   "metadata": {},
   "source": [
    "## Task 1"
   ]
  },
  {
   "cell_type": "markdown",
   "id": "100e1fc2-654c-4f05-8171-8ac4ca7d9acc",
   "metadata": {},
   "source": [
    "Загрузи датасет. Отрисуй Bar-plot с количеством комментариев для каждой категории токсичности \n",
    "и комментариев без токсичности.\n",
    "![sample](../misc/images/bar-plot.png)\n",
    "Выведи эти количества для каждой категории. "
   ]
  },
  {
   "cell_type": "code",
   "execution_count": 1,
   "id": "c53dce91-7c94-4d1f-9158-c9e8130b111d",
   "metadata": {},
   "outputs": [],
   "source": [
    "# Код тут\n",
    "import pandas as pd\n",
    "import seaborn as sns\n",
    "import matplotlib.pyplot as plt"
   ]
  },
  {
   "cell_type": "code",
   "execution_count": 2,
   "id": "317dd1d8",
   "metadata": {},
   "outputs": [
    {
     "data": {
      "image/png": "[encoded data removed]",
      "text/plain": [
       "<Figure size 1100x700 with 1 Axes>"
      ]
     },
     "metadata": {},
     "output_type": "display_data"
    }
   ],
   "source": [
    "df = pd.read_csv('../datasets/toxic.csv')\n",
    "toxic = df['toxic'].sum()\n",
    "not_toxic = len(df) - toxic\n",
    "obscene = df['obscene'].sum()\n",
    "insult = df['insult'].sum()\n",
    "severe_toxic = df['severe_toxic'].sum()\n",
    "threat = df['threat'].sum()\n",
    "\n",
    "data = {\"not toxic\": not_toxic, 'toxic': toxic, 'obscene': obscene, \\\n",
    "        'insult': insult, 'severe_toxic': severe_toxic, 'threat': threat}\n",
    "df_count = pd.DataFrame(data, index=[\"Количество комментариев\"])\n",
    "plt.figure(figsize=(11, 7))\n",
    "sns.barplot(data=df_count)\n",
    "plt.xlabel('Категории')\n",
    "plt.ylabel(\"Количество комментариев\")\n",
    "plt.show()"
   ]
  },
  {
   "cell_type": "markdown",
   "id": "66f26770-8f33-4dec-887a-17cd969a4560",
   "metadata": {},
   "source": [
    "## Task 2"
   ]
  },
  {
   "cell_type": "markdown",
   "id": "a32b334c-b71f-43f7-9634-26ee83f63f94",
   "metadata": {},
   "source": [
    "Используя библиотеку [nltk](https://www.nltk.org/) обработайте тексты комментариев: \n",
    "* Приведи текст к нижнему регистру и токенизируй\n",
    "* Оставь токены содержащие английского алфавита \n",
    "* Убери знаки препинания, цифры\n",
    "* Убери стоп-слова из библиотки nltk\n",
    "\n",
    "Выведи количество токенов для комментария с индексом `000103f0d9cfb60f`"
   ]
  },
  {
   "cell_type": "code",
   "execution_count": 3,
   "id": "d15048af-0b0e-4f3e-99c4-12c6ad865308",
   "metadata": {},
   "outputs": [
    {
     "name": "stderr",
     "output_type": "stream",
     "text": [
      "[nltk_data] Error loading stopwords: <urlopen error [SSL:\n",
      "[nltk_data]     CERTIFICATE_VERIFY_FAILED] certificate verify failed:\n",
      "[nltk_data]     unable to get local issuer certificate (_ssl.c:1091)>\n",
      "[nltk_data] Error loading punkt: <urlopen error [SSL:\n",
      "[nltk_data]     CERTIFICATE_VERIFY_FAILED] certificate verify failed:\n",
      "[nltk_data]     unable to get local issuer certificate (_ssl.c:1091)>\n"
     ]
    },
    {
     "data": {
      "text/plain": [
       "False"
      ]
     },
     "execution_count": 3,
     "metadata": {},
     "output_type": "execute_result"
    }
   ],
   "source": [
    "# Код тут\n",
    "import nltk\n",
    "from nltk.tokenize import word_tokenize\n",
    "from nltk.corpus import stopwords\n",
    "import string\n",
    "import re\n",
    "from string import ascii_letters\n",
    "nltk.download('stopwords')\n",
    "\n",
    "# Установка пунктуации и стоп-слов\n",
    "punctuation = set(string.punctuation)\n",
    "stop_words = set(stopwords.words('english'))\n",
    "nltk.download('punkt')"
   ]
  },
  {
   "cell_type": "code",
   "execution_count": 4,
   "id": "3e10abdc",
   "metadata": {},
   "outputs": [
    {
     "data": {
      "text/plain": [
       "(9,\n",
       " ['matches',\n",
       "  'background',\n",
       "  'colour',\n",
       "  'seemingly',\n",
       "  'stuck',\n",
       "  'thanks',\n",
       "  'talk',\n",
       "  'january',\n",
       "  'utc'])"
      ]
     },
     "execution_count": 4,
     "metadata": {},
     "output_type": "execute_result"
    }
   ],
   "source": [
    "# Функция для обработки текста комментария\n",
    "def process_comment(comm):\n",
    "    # Приведение к нижнему регистру\n",
    "    comm = comm.str.lower()\n",
    "    comm_text = ' '.join(comm)\n",
    "    \n",
    "    # Токенизация\n",
    "    token = word_tokenize(comm_text)\n",
    "    \n",
    "    # Фильтрация по английским словам\n",
    "    token = [x for x in token if all(map(lambda c: c in ascii_letters, x)) == True]\n",
    "    \n",
    "    # Удаление знаков препинания/цифр\n",
    "    token = [x for x in token if x.isalpha()]\n",
    "    \n",
    "    # Удаление стоп-слов\n",
    "    token = [x for x in token if x not in stop_words]\n",
    "    \n",
    "    return token\n",
    "\n",
    "# Обработка комментариев и вывод количества токенов\n",
    "comments = df['comment_text'][df['id'] == '000103f0d9cfb60f']\n",
    "\n",
    "token_ = process_comment(comments)\n",
    "num_tokens = len(token_)\n",
    "num_tokens, token_"
   ]
  },
  {
   "cell_type": "markdown",
   "id": "33c1178f-ed36-472b-b31b-b3479d8aecea",
   "metadata": {
    "tags": []
   },
   "source": [
    "## Task 3"
   ]
  },
  {
   "cell_type": "markdown",
   "id": "2a8dcd9e-62cb-40bd-ba4c-42b991f88e19",
   "metadata": {},
   "source": [
    "Раздели выборку на тренировачную и тестовоую с параметрами `random_state=21, test_size=0.3, shuffle=True`\n",
    "Преобразуй тексты комментариев с помощью [TF-IDF](https://scikit-learn.org/stable/modules/generated/sklearn.feature_extraction.text.TfidfVectorizer.html) с количеством признаков равный 3000. \\\n",
    "Выведи размерность тренировачной выборки после преобразования текста."
   ]
  },
  {
   "cell_type": "code",
   "execution_count": 1,
   "id": "d24cd2ca-0156-4d27-a6b2-e082b45fca7b",
   "metadata": {},
   "outputs": [
    {
     "ename": "ModuleNotFoundError",
     "evalue": "No module named 'scipy.sparse'",
     "output_type": "error",
     "traceback": [
      "\u001b[0;31m---------------------------------------------------------------------------\u001b[0m",
      "\u001b[0;31mModuleNotFoundError\u001b[0m                       Traceback (most recent call last)",
      "\u001b[0;32m/var/folders/zz/zyxvpxvq6csfxvn_n003vsdw00yybg/T/ipykernel_16891/4271910225.py\u001b[0m in \u001b[0;36m<module>\u001b[0;34m\u001b[0m\n\u001b[1;32m      1\u001b[0m \u001b[0;31m# Код тут\u001b[0m\u001b[0;34m\u001b[0m\u001b[0;34m\u001b[0m\u001b[0;34m\u001b[0m\u001b[0m\n\u001b[0;32m----> 2\u001b[0;31m \u001b[0;32mfrom\u001b[0m \u001b[0msklearn\u001b[0m\u001b[0;34m.\u001b[0m\u001b[0mmodel_selection\u001b[0m \u001b[0;32mimport\u001b[0m \u001b[0mtrain_test_split\u001b[0m\u001b[0;34m\u001b[0m\u001b[0;34m\u001b[0m\u001b[0m\n\u001b[0m\u001b[1;32m      3\u001b[0m \u001b[0;32mfrom\u001b[0m \u001b[0msklearn\u001b[0m\u001b[0;34m.\u001b[0m\u001b[0mfeature_extraction\u001b[0m\u001b[0;34m.\u001b[0m\u001b[0mtext\u001b[0m \u001b[0;32mimport\u001b[0m \u001b[0mTfidfVectorizer\u001b[0m\u001b[0;34m\u001b[0m\u001b[0;34m\u001b[0m\u001b[0m\n",
      "\u001b[0;32m~/Library/Python/3.7/lib/python/site-packages/sklearn/__init__.py\u001b[0m in \u001b[0;36m<module>\u001b[0;34m\u001b[0m\n\u001b[1;32m     80\u001b[0m     \u001b[0;32mfrom\u001b[0m \u001b[0;34m.\u001b[0m \u001b[0;32mimport\u001b[0m \u001b[0m_distributor_init\u001b[0m  \u001b[0;31m# noqa: F401\u001b[0m\u001b[0;34m\u001b[0m\u001b[0;34m\u001b[0m\u001b[0m\n\u001b[1;32m     81\u001b[0m     \u001b[0;32mfrom\u001b[0m \u001b[0;34m.\u001b[0m \u001b[0;32mimport\u001b[0m \u001b[0m__check_build\u001b[0m  \u001b[0;31m# noqa: F401\u001b[0m\u001b[0;34m\u001b[0m\u001b[0;34m\u001b[0m\u001b[0m\n\u001b[0;32m---> 82\u001b[0;31m     \u001b[0;32mfrom\u001b[0m \u001b[0;34m.\u001b[0m\u001b[0mbase\u001b[0m \u001b[0;32mimport\u001b[0m \u001b[0mclone\u001b[0m\u001b[0;34m\u001b[0m\u001b[0;34m\u001b[0m\u001b[0m\n\u001b[0m\u001b[1;32m     83\u001b[0m     \u001b[0;32mfrom\u001b[0m \u001b[0;34m.\u001b[0m\u001b[0mutils\u001b[0m\u001b[0;34m.\u001b[0m\u001b[0m_show_versions\u001b[0m \u001b[0;32mimport\u001b[0m \u001b[0mshow_versions\u001b[0m\u001b[0;34m\u001b[0m\u001b[0;34m\u001b[0m\u001b[0m\n\u001b[1;32m     84\u001b[0m \u001b[0;34m\u001b[0m\u001b[0m\n",
      "\u001b[0;32m~/Library/Python/3.7/lib/python/site-packages/sklearn/base.py\u001b[0m in \u001b[0;36m<module>\u001b[0;34m\u001b[0m\n\u001b[1;32m     15\u001b[0m \u001b[0;32mfrom\u001b[0m \u001b[0;34m.\u001b[0m \u001b[0;32mimport\u001b[0m \u001b[0m__version__\u001b[0m\u001b[0;34m\u001b[0m\u001b[0;34m\u001b[0m\u001b[0m\n\u001b[1;32m     16\u001b[0m \u001b[0;32mfrom\u001b[0m \u001b[0;34m.\u001b[0m\u001b[0m_config\u001b[0m \u001b[0;32mimport\u001b[0m \u001b[0mget_config\u001b[0m\u001b[0;34m\u001b[0m\u001b[0;34m\u001b[0m\u001b[0m\n\u001b[0;32m---> 17\u001b[0;31m \u001b[0;32mfrom\u001b[0m \u001b[0;34m.\u001b[0m\u001b[0mutils\u001b[0m \u001b[0;32mimport\u001b[0m \u001b[0m_IS_32BIT\u001b[0m\u001b[0;34m\u001b[0m\u001b[0;34m\u001b[0m\u001b[0m\n\u001b[0m\u001b[1;32m     18\u001b[0m from .utils._tags import (\n\u001b[1;32m     19\u001b[0m     \u001b[0m_DEFAULT_TAGS\u001b[0m\u001b[0;34m,\u001b[0m\u001b[0;34m\u001b[0m\u001b[0;34m\u001b[0m\u001b[0m\n",
      "\u001b[0;32m~/Library/Python/3.7/lib/python/site-packages/sklearn/utils/__init__.py\u001b[0m in \u001b[0;36m<module>\u001b[0;34m\u001b[0m\n\u001b[1;32m     19\u001b[0m \u001b[0;32mimport\u001b[0m \u001b[0mwarnings\u001b[0m\u001b[0;34m\u001b[0m\u001b[0;34m\u001b[0m\u001b[0m\n\u001b[1;32m     20\u001b[0m \u001b[0;32mimport\u001b[0m \u001b[0mnumpy\u001b[0m \u001b[0;32mas\u001b[0m \u001b[0mnp\u001b[0m\u001b[0;34m\u001b[0m\u001b[0;34m\u001b[0m\u001b[0m\n\u001b[0;32m---> 21\u001b[0;31m \u001b[0;32mfrom\u001b[0m \u001b[0mscipy\u001b[0m\u001b[0;34m.\u001b[0m\u001b[0msparse\u001b[0m \u001b[0;32mimport\u001b[0m \u001b[0missparse\u001b[0m\u001b[0;34m\u001b[0m\u001b[0;34m\u001b[0m\u001b[0m\n\u001b[0m\u001b[1;32m     22\u001b[0m \u001b[0;34m\u001b[0m\u001b[0m\n\u001b[1;32m     23\u001b[0m \u001b[0;32mfrom\u001b[0m \u001b[0;34m.\u001b[0m\u001b[0mmurmurhash\u001b[0m \u001b[0;32mimport\u001b[0m \u001b[0mmurmurhash3_32\u001b[0m\u001b[0;34m\u001b[0m\u001b[0;34m\u001b[0m\u001b[0m\n",
      "\u001b[0;31mModuleNotFoundError\u001b[0m: No module named 'scipy.sparse'"
     ]
    }
   ],
   "source": [
    "# Код тут\n",
    "from sklearn.model_selection import train_test_split\n",
    "from sklearn.feature_extraction.text import TfidfVectorizer"
   ]
  },
  {
   "cell_type": "code",
   "execution_count": 11,
   "id": "0f01d0a4",
   "metadata": {},
   "outputs": [
    {
     "ename": "NameError",
     "evalue": "name 'train_test_split' is not defined",
     "output_type": "error",
     "traceback": [
      "\u001b[0;31m---------------------------------------------------------------------------\u001b[0m",
      "\u001b[0;31mNameError\u001b[0m                                 Traceback (most recent call last)",
      "\u001b[0;32m/var/folders/zz/zyxvpxvq6csfxvn_n003vsdw00yybg/T/ipykernel_91526/2552473397.py\u001b[0m in \u001b[0;36m<module>\u001b[0;34m\u001b[0m\n\u001b[1;32m      1\u001b[0m \u001b[0;31m# Разделение выборки на тренировочную и тестовую\u001b[0m\u001b[0;34m\u001b[0m\u001b[0;34m\u001b[0m\u001b[0;34m\u001b[0m\u001b[0m\n\u001b[0;32m----> 2\u001b[0;31m \u001b[0mX_train\u001b[0m\u001b[0;34m,\u001b[0m \u001b[0mX_test\u001b[0m\u001b[0;34m,\u001b[0m \u001b[0my_train\u001b[0m\u001b[0;34m,\u001b[0m \u001b[0my_test\u001b[0m \u001b[0;34m=\u001b[0m \u001b[0mtrain_test_split\u001b[0m\u001b[0;34m(\u001b[0m\u001b[0mcomment\u001b[0m\u001b[0;34m,\u001b[0m \u001b[0mtokens\u001b[0m\u001b[0;34m,\u001b[0m \u001b[0mtest_size\u001b[0m\u001b[0;34m=\u001b[0m\u001b[0;36m0.3\u001b[0m\u001b[0;34m,\u001b[0m \u001b[0mrandom_state\u001b[0m\u001b[0;34m=\u001b[0m\u001b[0;36m21\u001b[0m\u001b[0;34m,\u001b[0m \u001b[0mshuffle\u001b[0m\u001b[0;34m=\u001b[0m\u001b[0;32mTrue\u001b[0m\u001b[0;34m)\u001b[0m\u001b[0;34m\u001b[0m\u001b[0;34m\u001b[0m\u001b[0m\n\u001b[0m\u001b[1;32m      3\u001b[0m \u001b[0;34m\u001b[0m\u001b[0m\n\u001b[1;32m      4\u001b[0m \u001b[0;31m# Преобразование текстов с помощью TF-IDF\u001b[0m\u001b[0;34m\u001b[0m\u001b[0;34m\u001b[0m\u001b[0;34m\u001b[0m\u001b[0m\n\u001b[1;32m      5\u001b[0m \u001b[0mvectorizer\u001b[0m \u001b[0;34m=\u001b[0m \u001b[0mTfidfVectorizer\u001b[0m\u001b[0;34m(\u001b[0m\u001b[0mmax_features\u001b[0m\u001b[0;34m=\u001b[0m\u001b[0;36m3000\u001b[0m\u001b[0;34m)\u001b[0m\u001b[0;34m\u001b[0m\u001b[0;34m\u001b[0m\u001b[0m\n",
      "\u001b[0;31mNameError\u001b[0m: name 'train_test_split' is not defined"
     ]
    }
   ],
   "source": [
    "# Разделение выборки на тренировочную и тестовую\n",
    "X_train, X_test, y_train, y_test = train_test_split(comment, tokens, test_size=0.3, random_state=21, shuffle=True)\n",
    "\n",
    "# Преобразование текстов с помощью TF-IDF\n",
    "vectorizer = TfidfVectorizer(max_features=3000)\n",
    "X_train_tfidf = vectorizer.fit_transform(X_train).toarray()\n",
    "X_test_tfidf = vectorizer.transform(X_test).toarray()"
   ]
  },
  {
   "cell_type": "markdown",
   "id": "510ab52e-2dc0-46b3-80b2-2f5a587593b5",
   "metadata": {},
   "source": [
    "## Task 4"
   ]
  },
  {
   "cell_type": "markdown",
   "id": "a2408435-5ee0-42b4-97c2-32740925326b",
   "metadata": {},
   "source": [
    "Реши задачу [Multi-Label](https://scikit-learn.org/stable/modules/multiclass.html) классификации используя [RidgeClassifier](https://scikit-learn.org/stable/modules/generated/sklearn.linear_model.RidgeClassifier.html#sklearn.linear_model.RidgeClassifier).\n",
    "Посчитай значение ROC-AUC для тестовой выборки."
   ]
  },
  {
   "cell_type": "code",
   "execution_count": 4,
   "id": "ce606d69-4889-4aad-9cc9-67072b2044d0",
   "metadata": {},
   "outputs": [],
   "source": [
    " # Создание и обучение модели RidgeClassifier\n",
    "model = RidgeClassifier()\n",
    "model.fit(X_train_tfidf, y_train)\n",
    "\n",
    "# Прогнозирование меток для тестовой выборки\n",
    "y_pred = model.predict(X_test_tfidf)\n",
    "\n",
    "# Преобразование y_test в DataFrame\n",
    "y_test_df = pd.DataFrame(y_test)\n",
    "\n",
    "# Проверка размерности y_pred и изменение формы, если необходимо\n",
    "if len(y_pred.shape) == 1:\n",
    "    y_pred = y_pred.reshape(-1, 1)\n",
    "\n",
    "# Вычисление ROC-AUC для каждого класса\n",
    "roc_auc_scores = []\n",
    "for i in range(len(y_test_df.columns)):\n",
    "    roc_auc = roc_auc_score(y_test_df.iloc[:, i], y_pred[:, i])\n",
    "    roc_auc_scores.append(roc_auc)\n",
    "\n",
    "# Вывод значений ROC-AUC для каждого класса\n",
    "for i in range(len(y_test_df.columns)):\n",
    "    print(f\"ROC-AUC for class '{y_test_df.columns[i]}': {roc_auc_scores[i]}\")"
   ]
  },
  {
   "cell_type": "markdown",
   "id": "2dd5b405-447d-420c-9841-72f0eaf03742",
   "metadata": {},
   "source": [
    "## Task 5"
   ]
  },
  {
   "cell_type": "markdown",
   "id": "2e8e7d65-26cf-4457-ae30-a59961fd02ca",
   "metadata": {},
   "source": [
    "Есть посмотреть на тексты токсичных комментариев, то можно заметить, что они могут повторять одни и те же слова. Или там чаще встречается `!` знаки. \\\n",
    "Кроме 'прямых' текстовых признаков, можно использоваться и эту статистику по тексту. Например, долю уникальных слов в тексте комментария или количество пунктуации в тексте.\n",
    "\n",
    "Придумай не меньше 4х признаков, которые могут помочь в обучении модели. Добавьте их к признакам TF-IDF и обучите модель. \n",
    "Получилось ли увеличить качество классификации?"
   ]
  },
  {
   "cell_type": "code",
   "execution_count": 5,
   "id": "895ab80f-6041-4e07-babd-bfb04275e911",
   "metadata": {},
   "outputs": [],
   "source": [
    "# Код тут\n",
    "df.corr()"
   ]
  }
 ],
 "metadata": {
  "kernelspec": {
   "display_name": "Python 3 (ipykernel)",
   "language": "python",
   "name": "python3"
  },
  "language_info": {
   "codemirror_mode": {
    "name": "ipython",
    "version": 3
   },
   "file_extension": ".py",
   "mimetype": "text/x-python",
   "name": "python",
   "nbconvert_exporter": "python",
   "pygments_lexer": "ipython3",
   "version": "3.7.9"
  }
 },
 "nbformat": 4,
 "nbformat_minor": 5
}
